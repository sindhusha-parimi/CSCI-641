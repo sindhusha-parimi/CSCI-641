{
  "nbformat": 4,
  "nbformat_minor": 0,
  "metadata": {
    "colab": {
      "name": "Clinical Trials ULMFiT and USE Model.ipynb",
      "provenance": [],
      "collapsed_sections": []
    },
    "kernelspec": {
      "name": "python3",
      "display_name": "Python 3"
    }
  },
  "cells": [
    {
      "cell_type": "markdown",
      "metadata": {
        "id": "6frrZqWqhURh",
        "colab_type": "text"
      },
      "source": [
        "Implementing FastAI’s ULMFiT to make a multi-class text classifier which we then use to predict the Conditions that a research is working on."
      ]
    },
    {
      "cell_type": "code",
      "metadata": {
        "id": "XuzN0Nc2RjTU",
        "colab_type": "code",
        "outputId": "547d9dcf-06f4-4d6a-b48c-8c96a682f039",
        "colab": {
          "base_uri": "https://localhost:8080/",
          "height": 424
        }
      },
      "source": [
        "#Importing clinical trials data.\n",
        "import pandas as pd\n",
        "\n",
        "#We processed the clinical trials dataset and extracted the Title column and Conditions labels into a CSV file to use it for the model building\n",
        "mydata = pd.read_csv('Clinical_data.csv')\n",
        "mydata"
      ],
      "execution_count": 0,
      "outputs": [
        {
          "output_type": "execute_result",
          "data": {
            "text/html": [
              "<div>\n",
              "<style scoped>\n",
              "    .dataframe tbody tr th:only-of-type {\n",
              "        vertical-align: middle;\n",
              "    }\n",
              "\n",
              "    .dataframe tbody tr th {\n",
              "        vertical-align: top;\n",
              "    }\n",
              "\n",
              "    .dataframe thead th {\n",
              "        text-align: right;\n",
              "    }\n",
              "</style>\n",
              "<table border=\"1\" class=\"dataframe\">\n",
              "  <thead>\n",
              "    <tr style=\"text-align: right;\">\n",
              "      <th></th>\n",
              "      <th>label</th>\n",
              "      <th>text</th>\n",
              "    </tr>\n",
              "  </thead>\n",
              "  <tbody>\n",
              "    <tr>\n",
              "      <th>0</th>\n",
              "      <td>1102</td>\n",
              "      <td>Positive Airway Pressure for the Treatment of ...</td>\n",
              "    </tr>\n",
              "    <tr>\n",
              "      <th>1</th>\n",
              "      <td>1117</td>\n",
              "      <td>Understanding and Developing a Network-based S...</td>\n",
              "    </tr>\n",
              "    <tr>\n",
              "      <th>2</th>\n",
              "      <td>11</td>\n",
              "      <td>An Internet-Delivered Mind-Body Program for Re...</td>\n",
              "    </tr>\n",
              "    <tr>\n",
              "      <th>3</th>\n",
              "      <td>1102</td>\n",
              "      <td>A Phase 1/2 Study of MPH966, an Oral Neutrophi...</td>\n",
              "    </tr>\n",
              "    <tr>\n",
              "      <th>4</th>\n",
              "      <td>1102</td>\n",
              "      <td>Vertebrobasilar Flow Evaluation and Risk of Tr...</td>\n",
              "    </tr>\n",
              "    <tr>\n",
              "      <th>...</th>\n",
              "      <td>...</td>\n",
              "      <td>...</td>\n",
              "    </tr>\n",
              "    <tr>\n",
              "      <th>4987</th>\n",
              "      <td>11</td>\n",
              "      <td>A Phase II Study of Cytoreduction, Gastrectomy...</td>\n",
              "    </tr>\n",
              "    <tr>\n",
              "      <th>4988</th>\n",
              "      <td>11</td>\n",
              "      <td>Next Generation Sequencing of Esophageal Cytol...</td>\n",
              "    </tr>\n",
              "    <tr>\n",
              "      <th>4989</th>\n",
              "      <td>11</td>\n",
              "      <td>Predicting Analgesic Response to Acupuncture: ...</td>\n",
              "    </tr>\n",
              "    <tr>\n",
              "      <th>4990</th>\n",
              "      <td>1117</td>\n",
              "      <td>Innovative Incentive Strategies for Sustainabl...</td>\n",
              "    </tr>\n",
              "    <tr>\n",
              "      <th>4991</th>\n",
              "      <td>1117</td>\n",
              "      <td>Phase I Placebo-Controlled Study of the Infect...</td>\n",
              "    </tr>\n",
              "  </tbody>\n",
              "</table>\n",
              "<p>4992 rows × 2 columns</p>\n",
              "</div>"
            ],
            "text/plain": [
              "      label                                               text\n",
              "0      1102  Positive Airway Pressure for the Treatment of ...\n",
              "1      1117  Understanding and Developing a Network-based S...\n",
              "2        11  An Internet-Delivered Mind-Body Program for Re...\n",
              "3      1102  A Phase 1/2 Study of MPH966, an Oral Neutrophi...\n",
              "4      1102  Vertebrobasilar Flow Evaluation and Risk of Tr...\n",
              "...     ...                                                ...\n",
              "4987     11  A Phase II Study of Cytoreduction, Gastrectomy...\n",
              "4988     11  Next Generation Sequencing of Esophageal Cytol...\n",
              "4989     11  Predicting Analgesic Response to Acupuncture: ...\n",
              "4990   1117  Innovative Incentive Strategies for Sustainabl...\n",
              "4991   1117  Phase I Placebo-Controlled Study of the Infect...\n",
              "\n",
              "[4992 rows x 2 columns]"
            ]
          },
          "metadata": {
            "tags": []
          },
          "execution_count": 1
        }
      ]
    },
    {
      "cell_type": "markdown",
      "metadata": {
        "id": "pNU_Jsm6iOfG",
        "colab_type": "text"
      },
      "source": [
        "In the code block below we remove those rows whose classes have insufficient numbers to be able to split by SKlearns split function validly."
      ]
    },
    {
      "cell_type": "code",
      "metadata": {
        "id": "wT0yq6i0R43g",
        "colab_type": "code",
        "outputId": "3108c770-c533-4e30-b9eb-c4bf8475410b",
        "colab": {
          "base_uri": "https://localhost:8080/",
          "height": 424
        }
      },
      "source": [
        "a = mydata[mydata.Class != 1302]\n",
        "b = a[a.Class != 1303]\n",
        "c = b[b.Class != 1402]\n",
        "d = c[c.Class != 1602]\n",
        "e = d[d.Class != 1608]\n",
        "f = e[e.Class != 10]\n",
        "g = f[f.Class != 16]\n",
        "h = g[g.Class != 912]\n",
        "h"
      ],
      "execution_count": 0,
      "outputs": [
        {
          "output_type": "execute_result",
          "data": {
            "text/html": [
              "<div>\n",
              "<style scoped>\n",
              "    .dataframe tbody tr th:only-of-type {\n",
              "        vertical-align: middle;\n",
              "    }\n",
              "\n",
              "    .dataframe tbody tr th {\n",
              "        vertical-align: top;\n",
              "    }\n",
              "\n",
              "    .dataframe thead th {\n",
              "        text-align: right;\n",
              "    }\n",
              "</style>\n",
              "<table border=\"1\" class=\"dataframe\">\n",
              "  <thead>\n",
              "    <tr style=\"text-align: right;\">\n",
              "      <th></th>\n",
              "      <th>Unnamed: 0</th>\n",
              "      <th>Title</th>\n",
              "      <th>Class</th>\n",
              "    </tr>\n",
              "  </thead>\n",
              "  <tbody>\n",
              "    <tr>\n",
              "      <th>0</th>\n",
              "      <td>0</td>\n",
              "      <td>Positive Airway Pressure for the Treatment of ...</td>\n",
              "      <td>1102</td>\n",
              "    </tr>\n",
              "    <tr>\n",
              "      <th>1</th>\n",
              "      <td>1</td>\n",
              "      <td>Understanding and Developing a Network-based S...</td>\n",
              "      <td>1117</td>\n",
              "    </tr>\n",
              "    <tr>\n",
              "      <th>2</th>\n",
              "      <td>2</td>\n",
              "      <td>An Internet-Delivered Mind-Body Program for Re...</td>\n",
              "      <td>11</td>\n",
              "    </tr>\n",
              "    <tr>\n",
              "      <th>3</th>\n",
              "      <td>3</td>\n",
              "      <td>A Phase 1/2 Study of MPH966, an Oral Neutrophi...</td>\n",
              "      <td>1102</td>\n",
              "    </tr>\n",
              "    <tr>\n",
              "      <th>4</th>\n",
              "      <td>4</td>\n",
              "      <td>Vertebrobasilar Flow Evaluation and Risk of Tr...</td>\n",
              "      <td>1102</td>\n",
              "    </tr>\n",
              "    <tr>\n",
              "      <th>...</th>\n",
              "      <td>...</td>\n",
              "      <td>...</td>\n",
              "      <td>...</td>\n",
              "    </tr>\n",
              "    <tr>\n",
              "      <th>4995</th>\n",
              "      <td>4995</td>\n",
              "      <td>A Phase II Study of Cytoreduction, Gastrectomy...</td>\n",
              "      <td>11</td>\n",
              "    </tr>\n",
              "    <tr>\n",
              "      <th>4996</th>\n",
              "      <td>4996</td>\n",
              "      <td>Next Generation Sequencing of Esophageal Cytol...</td>\n",
              "      <td>11</td>\n",
              "    </tr>\n",
              "    <tr>\n",
              "      <th>4997</th>\n",
              "      <td>4997</td>\n",
              "      <td>Predicting Analgesic Response to Acupuncture: ...</td>\n",
              "      <td>11</td>\n",
              "    </tr>\n",
              "    <tr>\n",
              "      <th>4998</th>\n",
              "      <td>4998</td>\n",
              "      <td>Innovative Incentive Strategies for Sustainabl...</td>\n",
              "      <td>1117</td>\n",
              "    </tr>\n",
              "    <tr>\n",
              "      <th>4999</th>\n",
              "      <td>4999</td>\n",
              "      <td>Phase I Placebo-Controlled Study of the Infect...</td>\n",
              "      <td>1117</td>\n",
              "    </tr>\n",
              "  </tbody>\n",
              "</table>\n",
              "<p>4992 rows × 3 columns</p>\n",
              "</div>"
            ],
            "text/plain": [
              "      Unnamed: 0                                              Title  Class\n",
              "0              0  Positive Airway Pressure for the Treatment of ...   1102\n",
              "1              1  Understanding and Developing a Network-based S...   1117\n",
              "2              2  An Internet-Delivered Mind-Body Program for Re...     11\n",
              "3              3  A Phase 1/2 Study of MPH966, an Oral Neutrophi...   1102\n",
              "4              4  Vertebrobasilar Flow Evaluation and Risk of Tr...   1102\n",
              "...          ...                                                ...    ...\n",
              "4995        4995  A Phase II Study of Cytoreduction, Gastrectomy...     11\n",
              "4996        4996  Next Generation Sequencing of Esophageal Cytol...     11\n",
              "4997        4997  Predicting Analgesic Response to Acupuncture: ...     11\n",
              "4998        4998  Innovative Incentive Strategies for Sustainabl...   1117\n",
              "4999        4999  Phase I Placebo-Controlled Study of the Infect...   1117\n",
              "\n",
              "[4992 rows x 3 columns]"
            ]
          },
          "metadata": {
            "tags": []
          },
          "execution_count": 30
        }
      ]
    },
    {
      "cell_type": "code",
      "metadata": {
        "id": "VfIGgENdVmwM",
        "colab_type": "code",
        "outputId": "d1ae4c4f-dcf1-4191-f6ff-59da0c713769",
        "colab": {
          "base_uri": "https://localhost:8080/",
          "height": 424
        }
      },
      "source": [
        "k = h.drop('Unnamed: 0',axis =1)\n",
        "k"
      ],
      "execution_count": 0,
      "outputs": [
        {
          "output_type": "execute_result",
          "data": {
            "text/html": [
              "<div>\n",
              "<style scoped>\n",
              "    .dataframe tbody tr th:only-of-type {\n",
              "        vertical-align: middle;\n",
              "    }\n",
              "\n",
              "    .dataframe tbody tr th {\n",
              "        vertical-align: top;\n",
              "    }\n",
              "\n",
              "    .dataframe thead th {\n",
              "        text-align: right;\n",
              "    }\n",
              "</style>\n",
              "<table border=\"1\" class=\"dataframe\">\n",
              "  <thead>\n",
              "    <tr style=\"text-align: right;\">\n",
              "      <th></th>\n",
              "      <th>Unnamed: 0</th>\n",
              "      <th>Title</th>\n",
              "      <th>Class</th>\n",
              "    </tr>\n",
              "  </thead>\n",
              "  <tbody>\n",
              "    <tr>\n",
              "      <th>0</th>\n",
              "      <td>0</td>\n",
              "      <td>Positive Airway Pressure for the Treatment of ...</td>\n",
              "      <td>1102</td>\n",
              "    </tr>\n",
              "    <tr>\n",
              "      <th>1</th>\n",
              "      <td>1</td>\n",
              "      <td>Understanding and Developing a Network-based S...</td>\n",
              "      <td>1117</td>\n",
              "    </tr>\n",
              "    <tr>\n",
              "      <th>2</th>\n",
              "      <td>2</td>\n",
              "      <td>An Internet-Delivered Mind-Body Program for Re...</td>\n",
              "      <td>11</td>\n",
              "    </tr>\n",
              "    <tr>\n",
              "      <th>3</th>\n",
              "      <td>3</td>\n",
              "      <td>A Phase 1/2 Study of MPH966, an Oral Neutrophi...</td>\n",
              "      <td>1102</td>\n",
              "    </tr>\n",
              "    <tr>\n",
              "      <th>4</th>\n",
              "      <td>4</td>\n",
              "      <td>Vertebrobasilar Flow Evaluation and Risk of Tr...</td>\n",
              "      <td>1102</td>\n",
              "    </tr>\n",
              "    <tr>\n",
              "      <th>...</th>\n",
              "      <td>...</td>\n",
              "      <td>...</td>\n",
              "      <td>...</td>\n",
              "    </tr>\n",
              "    <tr>\n",
              "      <th>4995</th>\n",
              "      <td>4995</td>\n",
              "      <td>A Phase II Study of Cytoreduction, Gastrectomy...</td>\n",
              "      <td>11</td>\n",
              "    </tr>\n",
              "    <tr>\n",
              "      <th>4996</th>\n",
              "      <td>4996</td>\n",
              "      <td>Next Generation Sequencing of Esophageal Cytol...</td>\n",
              "      <td>11</td>\n",
              "    </tr>\n",
              "    <tr>\n",
              "      <th>4997</th>\n",
              "      <td>4997</td>\n",
              "      <td>Predicting Analgesic Response to Acupuncture: ...</td>\n",
              "      <td>11</td>\n",
              "    </tr>\n",
              "    <tr>\n",
              "      <th>4998</th>\n",
              "      <td>4998</td>\n",
              "      <td>Innovative Incentive Strategies for Sustainabl...</td>\n",
              "      <td>1117</td>\n",
              "    </tr>\n",
              "    <tr>\n",
              "      <th>4999</th>\n",
              "      <td>4999</td>\n",
              "      <td>Phase I Placebo-Controlled Study of the Infect...</td>\n",
              "      <td>1117</td>\n",
              "    </tr>\n",
              "  </tbody>\n",
              "</table>\n",
              "<p>4992 rows × 3 columns</p>\n",
              "</div>"
            ],
            "text/plain": [
              "      Unnamed: 0                                              Title  Class\n",
              "0              0  Positive Airway Pressure for the Treatment of ...   1102\n",
              "1              1  Understanding and Developing a Network-based S...   1117\n",
              "2              2  An Internet-Delivered Mind-Body Program for Re...     11\n",
              "3              3  A Phase 1/2 Study of MPH966, an Oral Neutrophi...   1102\n",
              "4              4  Vertebrobasilar Flow Evaluation and Risk of Tr...   1102\n",
              "...          ...                                                ...    ...\n",
              "4995        4995  A Phase II Study of Cytoreduction, Gastrectomy...     11\n",
              "4996        4996  Next Generation Sequencing of Esophageal Cytol...     11\n",
              "4997        4997  Predicting Analgesic Response to Acupuncture: ...     11\n",
              "4998        4998  Innovative Incentive Strategies for Sustainabl...   1117\n",
              "4999        4999  Phase I Placebo-Controlled Study of the Infect...   1117\n",
              "\n",
              "[4992 rows x 3 columns]"
            ]
          },
          "metadata": {
            "tags": []
          },
          "execution_count": 25
        }
      ]
    },
    {
      "cell_type": "markdown",
      "metadata": {
        "id": "58aLxfX_iqH6",
        "colab_type": "text"
      },
      "source": [
        "Here we split the data into train and test data sets"
      ]
    },
    {
      "cell_type": "code",
      "metadata": {
        "id": "faIAyv8ZR-r0",
        "colab_type": "code",
        "outputId": "3f23cec9-7355-494a-e67d-e99f3272cf6e",
        "colab": {
          "base_uri": "https://localhost:8080/",
          "height": 36
        }
      },
      "source": [
        "\n",
        "from sklearn.model_selection import train_test_split\n",
        "df_trn, df_val = train_test_split(mydata, stratify = mydata['label'], test_size = 0.3)\n",
        "df_trn.shape, df_val.shape"
      ],
      "execution_count": 0,
      "outputs": [
        {
          "output_type": "execute_result",
          "data": {
            "text/plain": [
              "((3494, 2), (1498, 2))"
            ]
          },
          "metadata": {
            "tags": []
          },
          "execution_count": 67
        }
      ]
    },
    {
      "cell_type": "code",
      "metadata": {
        "colab_type": "code",
        "id": "h3Qan9psG8zm",
        "colab": {}
      },
      "source": [
        "from fastai.text import *\n",
        "# Language model data\n",
        "data_lm = TextLMDataBunch.from_df(train_df = df_trn, valid_df = df_val, path = \"\")\n",
        "# Classifier model data\n",
        "data_clas = TextClasDataBunch.from_df(train_df = df_trn, valid_df = df_val, path = \"\", vocab=data_lm.train_ds.vocab, bs=32)"
      ],
      "execution_count": 0,
      "outputs": []
    },
    {
      "cell_type": "code",
      "metadata": {
        "id": "N5RbWO1rSWTE",
        "colab_type": "code",
        "colab": {}
      },
      "source": [
        "\n",
        "#Saving the language model and classifier model to load them again\n",
        "data_lm.save('data_lm_export.pkl')\n",
        "data_clas.save('data_clas_export.pkl')\n",
        "data_lm = load_data('./', 'data_lm_export.pkl')\n",
        "data_clas = load_data('./', 'data_clas_export.pkl', bs=64)\n",
        "\n"
      ],
      "execution_count": 0,
      "outputs": []
    },
    {
      "cell_type": "code",
      "metadata": {
        "id": "1EXMRFDMSe63",
        "colab_type": "code",
        "colab": {}
      },
      "source": [
        "#build model\n",
        "learn = language_model_learner(data_lm, AWD_LSTM, drop_mult=0.3)"
      ],
      "execution_count": 0,
      "outputs": []
    },
    {
      "cell_type": "code",
      "metadata": {
        "id": "fPIrejNxShoj",
        "colab_type": "code",
        "outputId": "9fe27494-5ec4-4fad-fac5-627c1d4da6b2",
        "colab": {
          "base_uri": "https://localhost:8080/",
          "height": 335
        }
      },
      "source": [
        "#finding optimal learning rate\n",
        "\n",
        "learn.lr_find()\n",
        "learn.recorder.plot(suggestion=True)\n",
        "min_grad_lr = learn.recorder.min_grad_lr"
      ],
      "execution_count": 0,
      "outputs": [
        {
          "output_type": "display_data",
          "data": {
            "text/html": [
              ""
            ],
            "text/plain": [
              "<IPython.core.display.HTML object>"
            ]
          },
          "metadata": {
            "tags": []
          }
        },
        {
          "output_type": "stream",
          "text": [
            "LR Finder is complete, type {learner_name}.recorder.plot() to see the graph.\n",
            "Min numerical gradient: 1.20E-01\n",
            "Min loss divided by 10: 7.59E-02\n"
          ],
          "name": "stdout"
        },
        {
          "output_type": "display_data",
          "data": {
            "image/png": "[encoded data removed]",
            "text/plain": [
              "<Figure size 432x288 with 1 Axes>"
            ]
          },
          "metadata": {
            "tags": []
          }
        }
      ]
    },
    {
      "cell_type": "code",
      "metadata": {
        "id": "Tkpw4bNISoWT",
        "colab_type": "code",
        "outputId": "d7d6006d-163a-4dec-a308-97dcc402f745",
        "colab": {
          "base_uri": "https://localhost:8080/",
          "height": 112
        }
      },
      "source": [
        "#training the model for 2 epochs\n",
        "learn.fit_one_cycle(2, min_grad_lr)"
      ],
      "execution_count": 0,
      "outputs": [
        {
          "output_type": "display_data",
          "data": {
            "text/html": [
              "<table border=\"1\" class=\"dataframe\">\n",
              "  <thead>\n",
              "    <tr style=\"text-align: left;\">\n",
              "      <th>epoch</th>\n",
              "      <th>train_loss</th>\n",
              "      <th>valid_loss</th>\n",
              "      <th>accuracy</th>\n",
              "      <th>time</th>\n",
              "    </tr>\n",
              "  </thead>\n",
              "  <tbody>\n",
              "    <tr>\n",
              "      <td>0</td>\n",
              "      <td>3.234430</td>\n",
              "      <td>2.656528</td>\n",
              "      <td>0.509801</td>\n",
              "      <td>03:51</td>\n",
              "    </tr>\n",
              "    <tr>\n",
              "      <td>1</td>\n",
              "      <td>2.716439</td>\n",
              "      <td>2.505202</td>\n",
              "      <td>0.529038</td>\n",
              "      <td>03:51</td>\n",
              "    </tr>\n",
              "  </tbody>\n",
              "</table>"
            ],
            "text/plain": [
              "<IPython.core.display.HTML object>"
            ]
          },
          "metadata": {
            "tags": []
          }
        }
      ]
    },
    {
      "cell_type": "code",
      "metadata": {
        "id": "ICWxvuYuXQQ9",
        "colab_type": "code",
        "outputId": "844f0960-41cf-4246-8015-3526fe66a70c",
        "colab": {
          "base_uri": "https://localhost:8080/",
          "height": 112
        }
      },
      "source": [
        "#unfreezing all layers\n",
        "\n",
        "learn.unfreeze()\n",
        "learn.fit_one_cycle(2, 1e-3)"
      ],
      "execution_count": 0,
      "outputs": [
        {
          "output_type": "display_data",
          "data": {
            "text/html": [
              "<table border=\"1\" class=\"dataframe\">\n",
              "  <thead>\n",
              "    <tr style=\"text-align: left;\">\n",
              "      <th>epoch</th>\n",
              "      <th>train_loss</th>\n",
              "      <th>valid_loss</th>\n",
              "      <th>accuracy</th>\n",
              "      <th>time</th>\n",
              "    </tr>\n",
              "  </thead>\n",
              "  <tbody>\n",
              "    <tr>\n",
              "      <td>0</td>\n",
              "      <td>2.125705</td>\n",
              "      <td>2.405598</td>\n",
              "      <td>0.537013</td>\n",
              "      <td>06:00</td>\n",
              "    </tr>\n",
              "    <tr>\n",
              "      <td>1</td>\n",
              "      <td>1.991692</td>\n",
              "      <td>2.388434</td>\n",
              "      <td>0.544318</td>\n",
              "      <td>05:58</td>\n",
              "    </tr>\n",
              "  </tbody>\n",
              "</table>"
            ],
            "text/plain": [
              "<IPython.core.display.HTML object>"
            ]
          },
          "metadata": {
            "tags": []
          }
        }
      ]
    },
    {
      "cell_type": "code",
      "metadata": {
        "id": "CBl-PqO3ZPw9",
        "colab_type": "code",
        "colab": {}
      },
      "source": [
        ""
      ],
      "execution_count": 0,
      "outputs": []
    },
    {
      "cell_type": "code",
      "metadata": {
        "id": "cbvb0gshc-cd",
        "colab_type": "code",
        "colab": {}
      },
      "source": [
        "learn.save_encoder('ft_enc')"
      ],
      "execution_count": 0,
      "outputs": []
    },
    {
      "cell_type": "code",
      "metadata": {
        "id": "c4U0VMOndGyd",
        "colab_type": "code",
        "colab": {}
      },
      "source": [
        "#passing the input data and drop rate\n",
        "learn = text_classifier_learner(data_clas, AWD_LSTM, drop_mult=0.5)"
      ],
      "execution_count": 0,
      "outputs": []
    },
    {
      "cell_type": "code",
      "metadata": {
        "id": "tObTigGNdHpl",
        "colab_type": "code",
        "colab": {}
      },
      "source": [
        "learn.load_encoder('ft_enc')"
      ],
      "execution_count": 0,
      "outputs": []
    },
    {
      "cell_type": "code",
      "metadata": {
        "id": "WJZ6txcldLdD",
        "colab_type": "code",
        "outputId": "fb9b2907-7f98-4b95-a690-a5b4f967095d",
        "colab": {
          "base_uri": "https://localhost:8080/",
          "height": 335
        }
      },
      "source": [
        "#Finding optimal learning rate when the layers are unfreezed\n",
        "learn.lr_find()\n",
        "learn.recorder.plot(suggestion=True)\n",
        "min_grad_lr = learn.recorder.min_grad_lr"
      ],
      "execution_count": 0,
      "outputs": [
        {
          "output_type": "display_data",
          "data": {
            "text/html": [
              ""
            ],
            "text/plain": [
              "<IPython.core.display.HTML object>"
            ]
          },
          "metadata": {
            "tags": []
          }
        },
        {
          "output_type": "stream",
          "text": [
            "LR Finder is complete, type {learner_name}.recorder.plot() to see the graph.\n",
            "Min numerical gradient: 5.75E-02\n",
            "Min loss divided by 10: 9.12E-02\n"
          ],
          "name": "stdout"
        },
        {
          "output_type": "display_data",
          "data": {
            "image/png": "[encoded data removed]",
            "text/plain": [
              "<Figure size 432x288 with 1 Axes>"
            ]
          },
          "metadata": {
            "tags": []
          }
        }
      ]
    },
    {
      "cell_type": "code",
      "metadata": {
        "id": "WsvkLpaGjGnX",
        "colab_type": "code",
        "outputId": "d7717ec3-13c2-481d-ea98-a51ec7a66a02",
        "colab": {
          "base_uri": "https://localhost:8080/",
          "height": 112
        }
      },
      "source": [
        "learn.fit_one_cycle(2, min_grad_lr)"
      ],
      "execution_count": 0,
      "outputs": [
        {
          "output_type": "display_data",
          "data": {
            "text/html": [
              "<table border=\"1\" class=\"dataframe\">\n",
              "  <thead>\n",
              "    <tr style=\"text-align: left;\">\n",
              "      <th>epoch</th>\n",
              "      <th>train_loss</th>\n",
              "      <th>valid_loss</th>\n",
              "      <th>accuracy</th>\n",
              "      <th>time</th>\n",
              "    </tr>\n",
              "  </thead>\n",
              "  <tbody>\n",
              "    <tr>\n",
              "      <td>0</td>\n",
              "      <td>1.776764</td>\n",
              "      <td>1.445208</td>\n",
              "      <td>0.602136</td>\n",
              "      <td>02:21</td>\n",
              "    </tr>\n",
              "    <tr>\n",
              "      <td>1</td>\n",
              "      <td>1.450484</td>\n",
              "      <td>1.187839</td>\n",
              "      <td>0.647530</td>\n",
              "      <td>02:20</td>\n",
              "    </tr>\n",
              "  </tbody>\n",
              "</table>"
            ],
            "text/plain": [
              "<IPython.core.display.HTML object>"
            ]
          },
          "metadata": {
            "tags": []
          }
        }
      ]
    },
    {
      "cell_type": "code",
      "metadata": {
        "id": "5lD-x8ybwkmN",
        "colab_type": "code",
        "outputId": "ade69faf-5326-4f70-9fd8-a6f181090234",
        "colab": {
          "base_uri": "https://localhost:8080/",
          "height": 279
        }
      },
      "source": [
        "learn.recorder.plot_losses()"
      ],
      "execution_count": 0,
      "outputs": [
        {
          "output_type": "display_data",
          "data": {
            "image/png": "[encoded data removed]",
            "text/plain": [
              "<Figure size 432x288 with 1 Axes>"
            ]
          },
          "metadata": {
            "tags": []
          }
        }
      ]
    },
    {
      "cell_type": "code",
      "metadata": {
        "id": "NejSyQibxsFv",
        "colab_type": "code",
        "outputId": "cee08653-424c-4f5e-fcec-c0984cc858ac",
        "colab": {
          "base_uri": "https://localhost:8080/",
          "height": 175
        }
      },
      "source": [
        "learn.freeze_to(-2)\n",
        "learn.fit_one_cycle(4, slice(5e-3, 2e-3), moms=(0.8,0.7))"
      ],
      "execution_count": 0,
      "outputs": [
        {
          "output_type": "display_data",
          "data": {
            "text/html": [
              "<table border=\"1\" class=\"dataframe\">\n",
              "  <thead>\n",
              "    <tr style=\"text-align: left;\">\n",
              "      <th>epoch</th>\n",
              "      <th>train_loss</th>\n",
              "      <th>valid_loss</th>\n",
              "      <th>accuracy</th>\n",
              "      <th>time</th>\n",
              "    </tr>\n",
              "  </thead>\n",
              "  <tbody>\n",
              "    <tr>\n",
              "      <td>0</td>\n",
              "      <td>1.256401</td>\n",
              "      <td>1.188170</td>\n",
              "      <td>0.646863</td>\n",
              "      <td>02:45</td>\n",
              "    </tr>\n",
              "    <tr>\n",
              "      <td>1</td>\n",
              "      <td>1.245692</td>\n",
              "      <td>1.144494</td>\n",
              "      <td>0.654873</td>\n",
              "      <td>02:57</td>\n",
              "    </tr>\n",
              "    <tr>\n",
              "      <td>2</td>\n",
              "      <td>1.187399</td>\n",
              "      <td>1.118942</td>\n",
              "      <td>0.660881</td>\n",
              "      <td>02:58</td>\n",
              "    </tr>\n",
              "    <tr>\n",
              "      <td>3</td>\n",
              "      <td>1.118170</td>\n",
              "      <td>1.108634</td>\n",
              "      <td>0.664219</td>\n",
              "      <td>02:47</td>\n",
              "    </tr>\n",
              "  </tbody>\n",
              "</table>"
            ],
            "text/plain": [
              "<IPython.core.display.HTML object>"
            ]
          },
          "metadata": {
            "tags": []
          }
        }
      ]
    },
    {
      "cell_type": "code",
      "metadata": {
        "id": "x3wKqB7CxvzG",
        "colab_type": "code",
        "outputId": "dbba71b9-63b9-4cf2-df45-16189d9dabd2",
        "colab": {
          "base_uri": "https://localhost:8080/",
          "height": 279
        }
      },
      "source": [
        "\n",
        "learn.recorder.plot_losses()"
      ],
      "execution_count": 0,
      "outputs": [
        {
          "output_type": "display_data",
          "data": {
            "image/png": "[encoded data removed]",
            "text/plain": [
              "<Figure size 432x288 with 1 Axes>"
            ]
          },
          "metadata": {
            "tags": []
          }
        }
      ]
    },
    {
      "cell_type": "code",
      "metadata": {
        "id": "LMkJ0uNO0mnG",
        "colab_type": "code",
        "outputId": "1e66057a-89f4-4d43-d642-24b59e80d98a",
        "colab": {
          "base_uri": "https://localhost:8080/",
          "height": 175
        }
      },
      "source": [
        "learn.unfreeze()\n",
        "learn.fit_one_cycle(4, slice(2e-3/100, 2e-3), moms=(0.8,0.7))"
      ],
      "execution_count": 0,
      "outputs": [
        {
          "output_type": "display_data",
          "data": {
            "text/html": [
              "<table border=\"1\" class=\"dataframe\">\n",
              "  <thead>\n",
              "    <tr style=\"text-align: left;\">\n",
              "      <th>epoch</th>\n",
              "      <th>train_loss</th>\n",
              "      <th>valid_loss</th>\n",
              "      <th>accuracy</th>\n",
              "      <th>time</th>\n",
              "    </tr>\n",
              "  </thead>\n",
              "  <tbody>\n",
              "    <tr>\n",
              "      <td>0</td>\n",
              "      <td>1.098970</td>\n",
              "      <td>1.098613</td>\n",
              "      <td>0.664219</td>\n",
              "      <td>06:47</td>\n",
              "    </tr>\n",
              "    <tr>\n",
              "      <td>1</td>\n",
              "      <td>1.105231</td>\n",
              "      <td>1.084817</td>\n",
              "      <td>0.666889</td>\n",
              "      <td>06:29</td>\n",
              "    </tr>\n",
              "    <tr>\n",
              "      <td>2</td>\n",
              "      <td>1.030336</td>\n",
              "      <td>1.077331</td>\n",
              "      <td>0.670227</td>\n",
              "      <td>07:26</td>\n",
              "    </tr>\n",
              "    <tr>\n",
              "      <td>3</td>\n",
              "      <td>0.984499</td>\n",
              "      <td>1.069304</td>\n",
              "      <td>0.674900</td>\n",
              "      <td>06:41</td>\n",
              "    </tr>\n",
              "  </tbody>\n",
              "</table>"
            ],
            "text/plain": [
              "<IPython.core.display.HTML object>"
            ]
          },
          "metadata": {
            "tags": []
          }
        }
      ]
    },
    {
      "cell_type": "code",
      "metadata": {
        "id": "1c6V_AQ60rrW",
        "colab_type": "code",
        "outputId": "21508462-45c4-4ee9-a53b-5382e75ab0d8",
        "colab": {
          "base_uri": "https://localhost:8080/",
          "height": 311
        }
      },
      "source": [
        "#predictions on unseen test data\n",
        "preds,y,losses = learn.get_preds(with_loss=True)\n",
        "interp = ClassificationInterpretation(learn, preds, y, losses)\n",
        "#plotting confusion matrix\n",
        "interp.plot_confusion_matrix()"
      ],
      "execution_count": 0,
      "outputs": [
        {
          "output_type": "display_data",
          "data": {
            "image/png": "[encoded data removed]",
            "text/plain": [
              "<Figure size 432x288 with 1 Axes>"
            ]
          },
          "metadata": {
            "tags": []
          }
        }
      ]
    },
    {
      "cell_type": "code",
      "metadata": {
        "id": "By4DOTEO7Jd0",
        "colab_type": "code",
        "outputId": "bc2a2279-74dd-4caa-977c-d357beb8848e",
        "colab": {
          "base_uri": "https://localhost:8080/",
          "height": 129
        }
      },
      "source": [
        "learn.predict(\"Acute Effects of Cannabis on Cognition and Mobility in Older HIV-infected and Uninfected Women\")"
      ],
      "execution_count": 0,
      "outputs": [
        {
          "output_type": "execute_result",
          "data": {
            "text/plain": [
              "(Category 1117,\n",
              " tensor(18),\n",
              " tensor([3.1595e-03, 1.2522e-05, 3.5344e-04, 1.1227e-03, 1.3492e-04, 1.0847e-01,\n",
              "         1.4316e-02, 1.7428e-05, 4.8263e-04, 3.5931e-05, 5.9619e-03, 1.5888e-04,\n",
              "         1.8080e-04, 4.2520e-03, 4.0114e-03, 1.9876e-03, 3.3594e-03, 6.1064e-04,\n",
              "         8.5122e-01, 5.6862e-05, 7.6992e-05, 1.7380e-05]))"
            ]
          },
          "metadata": {
            "tags": []
          },
          "execution_count": 92
        }
      ]
    },
    {
      "cell_type": "code",
      "metadata": {
        "id": "3LxGG8CT7zcS",
        "colab_type": "code",
        "colab": {}
      },
      "source": [
        ""
      ],
      "execution_count": 0,
      "outputs": []
    },
    {
      "cell_type": "markdown",
      "metadata": {
        "id": "CFgTAZTkr50l",
        "colab_type": "text"
      },
      "source": [
        "***SECOND MODEL***"
      ]
    },
    {
      "cell_type": "markdown",
      "metadata": {
        "id": "JjNWyW4vrzMA",
        "colab_type": "text"
      },
      "source": [
        "**Prediction using Universal Sentence Encoder**"
      ]
    },
    {
      "cell_type": "code",
      "metadata": {
        "id": "N6Qi_IYPr65N",
        "colab_type": "code",
        "outputId": "e99e8133-6b78-406a-aaa4-cfecf33a0bd9",
        "colab": {
          "base_uri": "https://localhost:8080/",
          "height": 260
        }
      },
      "source": [
        "# Install the latest Tensorflow version.\n",
        "!pip3 install --quiet \"tensorflow>=1.7\"\n",
        "# Install TF-Hub.\n",
        "!pip3 install --quiet tensorflow-hub\n",
        "!pip3 install seaborn"
      ],
      "execution_count": 0,
      "outputs": [
        {
          "output_type": "stream",
          "text": [
            "Requirement already satisfied: seaborn in /usr/local/lib/python3.6/dist-packages (0.9.0)\n",
            "Requirement already satisfied: pandas>=0.15.2 in /usr/local/lib/python3.6/dist-packages (from seaborn) (0.25.3)\n",
            "Requirement already satisfied: numpy>=1.9.3 in /usr/local/lib/python3.6/dist-packages (from seaborn) (1.17.4)\n",
            "Requirement already satisfied: matplotlib>=1.4.3 in /usr/local/lib/python3.6/dist-packages (from seaborn) (3.1.2)\n",
            "Requirement already satisfied: scipy>=0.14.0 in /usr/local/lib/python3.6/dist-packages (from seaborn) (1.3.3)\n",
            "Requirement already satisfied: python-dateutil>=2.6.1 in /usr/local/lib/python3.6/dist-packages (from pandas>=0.15.2->seaborn) (2.6.1)\n",
            "Requirement already satisfied: pytz>=2017.2 in /usr/local/lib/python3.6/dist-packages (from pandas>=0.15.2->seaborn) (2018.9)\n",
            "Requirement already satisfied: kiwisolver>=1.0.1 in /usr/local/lib/python3.6/dist-packages (from matplotlib>=1.4.3->seaborn) (1.1.0)\n",
            "Requirement already satisfied: pyparsing!=2.0.4,!=2.1.2,!=2.1.6,>=2.0.1 in /usr/local/lib/python3.6/dist-packages (from matplotlib>=1.4.3->seaborn) (2.4.5)\n",
            "Requirement already satisfied: cycler>=0.10 in /usr/local/lib/python3.6/dist-packages (from matplotlib>=1.4.3->seaborn) (0.10.0)\n",
            "Requirement already satisfied: six>=1.5 in /usr/local/lib/python3.6/dist-packages (from python-dateutil>=2.6.1->pandas>=0.15.2->seaborn) (1.12.0)\n",
            "Requirement already satisfied: setuptools in /usr/local/lib/python3.6/dist-packages (from kiwisolver>=1.0.1->matplotlib>=1.4.3->seaborn) (42.0.2)\n"
          ],
          "name": "stdout"
        }
      ]
    },
    {
      "cell_type": "code",
      "metadata": {
        "id": "LyFFUDrmr9ZQ",
        "colab_type": "code",
        "outputId": "f6130455-92c8-42cd-cc86-453ecf2b7610",
        "colab": {
          "base_uri": "https://localhost:8080/",
          "height": 84
        }
      },
      "source": [
        "#importing required libraries\n",
        "import tensorflow as tf\n",
        "import tensorflow_hub as hub\n",
        "import matplotlib.pyplot as plt\n",
        "import numpy as np\n",
        "import os\n",
        "import pandas as pd\n",
        "import re\n",
        "import seaborn as sns\n",
        "import keras.layers as layers\n",
        "from keras.models import Model\n",
        "from keras import backend as K\n",
        "np.random.seed(10)"
      ],
      "execution_count": 0,
      "outputs": [
        {
          "output_type": "display_data",
          "data": {
            "text/html": [
              "<p style=\"color: red;\">\n",
              "The default version of TensorFlow in Colab will soon switch to TensorFlow 2.x.<br>\n",
              "We recommend you <a href=\"https://www.tensorflow.org/guide/migrate\" target=\"_blank\">upgrade</a> now \n",
              "or ensure your notebook will continue to use TensorFlow 1.x via the <code>%tensorflow_version 1.x</code> magic:\n",
              "<a href=\"https://colab.research.google.com/notebooks/tensorflow_version.ipynb\" target=\"_blank\">more info</a>.</p>\n"
            ],
            "text/plain": [
              "<IPython.core.display.HTML object>"
            ]
          },
          "metadata": {
            "tags": []
          }
        },
        {
          "output_type": "stream",
          "text": [
            "Using TensorFlow backend.\n"
          ],
          "name": "stderr"
        }
      ]
    },
    {
      "cell_type": "code",
      "metadata": {
        "id": "jyoPKex-sHID",
        "colab_type": "code",
        "colab": {}
      },
      "source": [
        "module_url = \"https://tfhub.dev/google/universal-sentence-encoder-large/3\" \n",
        "embed = hub.Module(module_url)"
      ],
      "execution_count": 0,
      "outputs": []
    },
    {
      "cell_type": "code",
      "metadata": {
        "id": "fcF9Z1hRsJu9",
        "colab_type": "code",
        "outputId": "e2de4c17-a52b-4bed-fbf0-ee7acd6ddfc7",
        "colab": {
          "base_uri": "https://localhost:8080/",
          "height": 424
        }
      },
      "source": [
        "#importing the processed data\n",
        "mydata = pd.read_csv('not_final3.csv')\n",
        "mydata = mydata.drop('Unnamed: 0',axis =1)\n",
        "mydata"
      ],
      "execution_count": 0,
      "outputs": [
        {
          "output_type": "execute_result",
          "data": {
            "text/html": [
              "<div>\n",
              "<style scoped>\n",
              "    .dataframe tbody tr th:only-of-type {\n",
              "        vertical-align: middle;\n",
              "    }\n",
              "\n",
              "    .dataframe tbody tr th {\n",
              "        vertical-align: top;\n",
              "    }\n",
              "\n",
              "    .dataframe thead th {\n",
              "        text-align: right;\n",
              "    }\n",
              "</style>\n",
              "<table border=\"1\" class=\"dataframe\">\n",
              "  <thead>\n",
              "    <tr style=\"text-align: right;\">\n",
              "      <th></th>\n",
              "      <th>label</th>\n",
              "      <th>text</th>\n",
              "    </tr>\n",
              "  </thead>\n",
              "  <tbody>\n",
              "    <tr>\n",
              "      <th>0</th>\n",
              "      <td>1102</td>\n",
              "      <td>Positive Airway Pressure for the Treatment of ...</td>\n",
              "    </tr>\n",
              "    <tr>\n",
              "      <th>1</th>\n",
              "      <td>1117</td>\n",
              "      <td>Understanding and Developing a Network-based S...</td>\n",
              "    </tr>\n",
              "    <tr>\n",
              "      <th>2</th>\n",
              "      <td>11</td>\n",
              "      <td>An Internet-Delivered Mind-Body Program for Re...</td>\n",
              "    </tr>\n",
              "    <tr>\n",
              "      <th>3</th>\n",
              "      <td>1102</td>\n",
              "      <td>A Phase 1/2 Study of MPH966, an Oral Neutrophi...</td>\n",
              "    </tr>\n",
              "    <tr>\n",
              "      <th>4</th>\n",
              "      <td>1102</td>\n",
              "      <td>Vertebrobasilar Flow Evaluation and Risk of Tr...</td>\n",
              "    </tr>\n",
              "    <tr>\n",
              "      <th>...</th>\n",
              "      <td>...</td>\n",
              "      <td>...</td>\n",
              "    </tr>\n",
              "    <tr>\n",
              "      <th>23884</th>\n",
              "      <td>11</td>\n",
              "      <td>Network and Contingency Management for Alcohol...</td>\n",
              "    </tr>\n",
              "    <tr>\n",
              "      <th>23885</th>\n",
              "      <td>1102</td>\n",
              "      <td>Genetic Susceptibility TO Ozone-induced Bronch...</td>\n",
              "    </tr>\n",
              "    <tr>\n",
              "      <th>23886</th>\n",
              "      <td>1102</td>\n",
              "      <td>Safety Study To Determine the Effect of a 10,0...</td>\n",
              "    </tr>\n",
              "    <tr>\n",
              "      <th>23887</th>\n",
              "      <td>1117</td>\n",
              "      <td>Biospecimen Resource for Familial Pancreas Res...</td>\n",
              "    </tr>\n",
              "    <tr>\n",
              "      <th>23888</th>\n",
              "      <td>2</td>\n",
              "      <td>Gemcitabine vs Gemcitabine + Cisplatin in the ...</td>\n",
              "    </tr>\n",
              "  </tbody>\n",
              "</table>\n",
              "<p>23889 rows × 2 columns</p>\n",
              "</div>"
            ],
            "text/plain": [
              "       label                                               text\n",
              "0       1102  Positive Airway Pressure for the Treatment of ...\n",
              "1       1117  Understanding and Developing a Network-based S...\n",
              "2         11  An Internet-Delivered Mind-Body Program for Re...\n",
              "3       1102  A Phase 1/2 Study of MPH966, an Oral Neutrophi...\n",
              "4       1102  Vertebrobasilar Flow Evaluation and Risk of Tr...\n",
              "...      ...                                                ...\n",
              "23884     11  Network and Contingency Management for Alcohol...\n",
              "23885   1102  Genetic Susceptibility TO Ozone-induced Bronch...\n",
              "23886   1102  Safety Study To Determine the Effect of a 10,0...\n",
              "23887   1117  Biospecimen Resource for Familial Pancreas Res...\n",
              "23888      2  Gemcitabine vs Gemcitabine + Cisplatin in the ...\n",
              "\n",
              "[23889 rows x 2 columns]"
            ]
          },
          "metadata": {
            "tags": []
          },
          "execution_count": 5
        }
      ]
    },
    {
      "cell_type": "code",
      "metadata": {
        "id": "GS-kq_2zsXER",
        "colab_type": "code",
        "colab": {}
      },
      "source": [
        "#split the data into train and test\n",
        "from sklearn.model_selection import train_test_split \n",
        "\n",
        "X_train , X_test  = train_test_split(mydata , stratify=mydata.label,test_size = .20 , )\n"
      ],
      "execution_count": 0,
      "outputs": []
    },
    {
      "cell_type": "code",
      "metadata": {
        "id": "EM9uR8d4sckI",
        "colab_type": "code",
        "colab": {}
      },
      "source": [
        "#Explicitly cast the input as a string\n",
        "def UniversalEmbedding(x):\n",
        "    return embed(tf.squeeze(tf.cast(x, tf.string)), signature=\"default\", as_dict=True)[\"default\"]"
      ],
      "execution_count": 0,
      "outputs": []
    },
    {
      "cell_type": "code",
      "metadata": {
        "id": "XKBymoVJsk24",
        "colab_type": "code",
        "outputId": "3a2ba059-9ed1-4f0e-9ec6-36e39ce50a0a",
        "colab": {
          "base_uri": "https://localhost:8080/",
          "height": 594
        }
      },
      "source": [
        "#Building the model with 2 layers, relu and softmax activation functions\n",
        "\n",
        "input_text = layers.Input(shape=(1,), dtype=tf.string)\n",
        "embedding = layers.Lambda(UniversalEmbedding, output_shape=(512,))(input_text)\n",
        "dense = layers.Dense(256, activation='relu')(embedding)\n",
        "pred = layers.Dense(17, activation='softmax')(dense)\n",
        "model = Model(inputs=[input_text], outputs=pred)\n",
        "model.compile(loss='categorical_crossentropy', optimizer='adam', metrics=['accuracy'])\n",
        "model.summary()"
      ],
      "execution_count": 0,
      "outputs": [
        {
          "output_type": "stream",
          "text": [
            "INFO:tensorflow:Saver not created because there are no variables in the graph to restore\n"
          ],
          "name": "stdout"
        },
        {
          "output_type": "stream",
          "text": [
            "INFO:tensorflow:Saver not created because there are no variables in the graph to restore\n"
          ],
          "name": "stderr"
        },
        {
          "output_type": "stream",
          "text": [
            "WARNING:tensorflow:From /usr/local/lib/python3.6/dist-packages/keras/backend/tensorflow_backend.py:4432: The name tf.random_uniform is deprecated. Please use tf.random.uniform instead.\n",
            "\n"
          ],
          "name": "stdout"
        },
        {
          "output_type": "stream",
          "text": [
            "WARNING:tensorflow:From /usr/local/lib/python3.6/dist-packages/keras/backend/tensorflow_backend.py:4432: The name tf.random_uniform is deprecated. Please use tf.random.uniform instead.\n",
            "\n"
          ],
          "name": "stderr"
        },
        {
          "output_type": "stream",
          "text": [
            "WARNING:tensorflow:From /usr/local/lib/python3.6/dist-packages/keras/optimizers.py:793: The name tf.train.Optimizer is deprecated. Please use tf.compat.v1.train.Optimizer instead.\n",
            "\n"
          ],
          "name": "stdout"
        },
        {
          "output_type": "stream",
          "text": [
            "WARNING:tensorflow:From /usr/local/lib/python3.6/dist-packages/keras/optimizers.py:793: The name tf.train.Optimizer is deprecated. Please use tf.compat.v1.train.Optimizer instead.\n",
            "\n"
          ],
          "name": "stderr"
        },
        {
          "output_type": "stream",
          "text": [
            "WARNING:tensorflow:From /usr/local/lib/python3.6/dist-packages/keras/backend/tensorflow_backend.py:3576: The name tf.log is deprecated. Please use tf.math.log instead.\n",
            "\n"
          ],
          "name": "stdout"
        },
        {
          "output_type": "stream",
          "text": [
            "WARNING:tensorflow:From /usr/local/lib/python3.6/dist-packages/keras/backend/tensorflow_backend.py:3576: The name tf.log is deprecated. Please use tf.math.log instead.\n",
            "\n"
          ],
          "name": "stderr"
        },
        {
          "output_type": "stream",
          "text": [
            "Model: \"model_1\"\n",
            "_________________________________________________________________\n",
            "Layer (type)                 Output Shape              Param #   \n",
            "=================================================================\n",
            "input_3 (InputLayer)         (None, 1)                 0         \n",
            "_________________________________________________________________\n",
            "lambda_2 (Lambda)            (None, 512)               0         \n",
            "_________________________________________________________________\n",
            "dense_1 (Dense)              (None, 256)               131328    \n",
            "_________________________________________________________________\n",
            "dense_2 (Dense)              (None, 17)                4369      \n",
            "=================================================================\n",
            "Total params: 135,697\n",
            "Trainable params: 135,697\n",
            "Non-trainable params: 0\n",
            "_________________________________________________________________\n"
          ],
          "name": "stdout"
        }
      ]
    },
    {
      "cell_type": "code",
      "metadata": {
        "id": "U642grojsoOf",
        "colab_type": "code",
        "colab": {}
      },
      "source": [
        "#1-hot encoding our train classes\n",
        "train_text = X_train['text'].tolist()\n",
        "train_text = np.array(train_text, dtype=object)[:, np.newaxis]\n",
        "\n",
        "train_label = np.asarray(pd.get_dummies(X_train['label']), dtype = np.int8)"
      ],
      "execution_count": 0,
      "outputs": []
    },
    {
      "cell_type": "code",
      "metadata": {
        "id": "1pvka6Tes_cY",
        "colab_type": "code",
        "colab": {}
      },
      "source": [
        "#1-hot encoding our test classes\n",
        "test_text = X_test['text'].tolist()\n",
        "test_text = np.array(test_text, dtype=object)[:, np.newaxis]\n",
        "test_label = np.asarray(pd.get_dummies(X_test['label']), dtype = np.int8)"
      ],
      "execution_count": 0,
      "outputs": []
    },
    {
      "cell_type": "code",
      "metadata": {
        "id": "a6JzicGptFHL",
        "colab_type": "code",
        "outputId": "40b966c6-d94e-4078-bb60-a19126cdd883",
        "colab": {
          "base_uri": "https://localhost:8080/",
          "height": 427
        }
      },
      "source": [
        "#This only train and save our Keras layers not the embed module' weights.\n",
        "with tf.Session() as session:\n",
        "  K.set_session(session)\n",
        "  session.run(tf.global_variables_initializer())\n",
        "  session.run(tf.tables_initializer())\n",
        "  history = model.fit(train_text, \n",
        "            train_label,\n",
        "            validation_data=(test_text, test_label),\n",
        "            epochs=10,\n",
        "            batch_size=32)\n",
        "  model.save_weights('./model.h5')"
      ],
      "execution_count": 0,
      "outputs": [
        {
          "output_type": "stream",
          "text": [
            "Train on 19111 samples, validate on 4778 samples\n",
            "Epoch 1/10\n",
            "19111/19111 [==============================] - 459s 24ms/step - loss: 1.1742 - acc: 0.6280 - val_loss: 1.0417 - val_acc: 0.6547\n",
            "Epoch 2/10\n",
            "19111/19111 [==============================] - 453s 24ms/step - loss: 1.0121 - acc: 0.6583 - val_loss: 0.9880 - val_acc: 0.6664\n",
            "Epoch 3/10\n",
            "19111/19111 [==============================] - 452s 24ms/step - loss: 0.9719 - acc: 0.6658 - val_loss: 0.9597 - val_acc: 0.6674\n",
            "Epoch 4/10\n",
            "19111/19111 [==============================] - 457s 24ms/step - loss: 0.9478 - acc: 0.6692 - val_loss: 0.9484 - val_acc: 0.6741\n",
            "Epoch 5/10\n",
            "19111/19111 [==============================] - 461s 24ms/step - loss: 0.9285 - acc: 0.6733 - val_loss: 0.9415 - val_acc: 0.6756\n",
            "Epoch 6/10\n",
            "19111/19111 [==============================] - 462s 24ms/step - loss: 0.9100 - acc: 0.6823 - val_loss: 0.9309 - val_acc: 0.6806\n",
            "Epoch 7/10\n",
            "19111/19111 [==============================] - 464s 24ms/step - loss: 0.8954 - acc: 0.6853 - val_loss: 0.9273 - val_acc: 0.6844\n",
            "Epoch 8/10\n",
            "19111/19111 [==============================] - 465s 24ms/step - loss: 0.8802 - acc: 0.6927 - val_loss: 0.9325 - val_acc: 0.6796\n",
            "Epoch 9/10\n",
            "19111/19111 [==============================] - 459s 24ms/step - loss: 0.8678 - acc: 0.6955 - val_loss: 0.9318 - val_acc: 0.6838\n",
            "Epoch 10/10\n",
            "19111/19111 [==============================] - 460s 24ms/step - loss: 0.8550 - acc: 0.6988 - val_loss: 0.9206 - val_acc: 0.6829\n"
          ],
          "name": "stdout"
        }
      ]
    },
    {
      "cell_type": "code",
      "metadata": {
        "id": "rzygh7ZUtLXY",
        "colab_type": "code",
        "outputId": "19700cea-9d12-405b-9c75-fe9b3c8e02e3",
        "colab": {
          "base_uri": "https://localhost:8080/",
          "height": 499
        }
      },
      "source": [
        "#VISUALIZATION OF ACCURACY AFTER AUGMENTATION\n",
        "import matplotlib.pyplot as plt\n",
        "\n",
        "def acc_loss_plot(history, epochs):\n",
        "    epochs = 10\n",
        "    acc = history.history['acc']\n",
        "    val_acc = history.history['val_acc']\n",
        "\n",
        "    loss = history.history['loss']\n",
        "    val_loss = history.history['val_loss']\n",
        "\n",
        "    epochs_range = range(epochs)\n",
        "    #training and validation accuracy curve\n",
        "\n",
        "    plt.figure(figsize=(14, 8))\n",
        "    plt.subplot(1, 2, 1)\n",
        "    plt.plot(epochs_range, acc, label='Training Accuracy')\n",
        "    plt.plot(epochs_range, val_acc, label='Validation Accuracy')\n",
        "    plt.legend(loc='lower right')\n",
        "    plt.title('Training and Validation Accuracy')\n",
        "\n",
        "    #training and validation loss curve\n",
        "    plt.subplot(1, 2, 2)\n",
        "    plt.plot(epochs_range, loss, label='Training Loss')\n",
        "    plt.plot(epochs_range, val_loss, label='Validation Loss')\n",
        "    plt.legend(loc='upper right')\n",
        "    plt.title('Training and Validation Loss')\n",
        "    plt.show()\n",
        "acc_loss_plot(history , 20)"
      ],
      "execution_count": 0,
      "outputs": [
        {
          "output_type": "display_data",
          "data": {
            "image/png": "[encoded data removed]",
            "text/plain": [
              "<Figure size 1008x576 with 2 Axes>"
            ]
          },
          "metadata": {
            "tags": []
          }
        }
      ]
    },
    {
      "cell_type": "code",
      "metadata": {
        "id": "MwzmKRqSZgwu",
        "colab_type": "code",
        "colab": {}
      },
      "source": [
        "new_text = [\"Diet-induced Modification of Sweet Taste Perception and Preference\", \"Endometrial Biopsy Biomarkers for Prediction of IVF Outcomes\", \"Behavioral Pharmacology of Cannabis and Nicotine\"]\n",
        "new_text = np.array(new_text, dtype=object)[:, np.newaxis]\n",
        "with tf.Session() as session:\n",
        "  K.set_session(session)\n",
        "  session.run(tf.global_variables_initializer())\n",
        "  session.run(tf.tables_initializer())\n",
        "  model.load_weights('./model.h5')  \n",
        "  predicts = model.predict(new_text, batch_size=32)"
      ],
      "execution_count": 0,
      "outputs": []
    },
    {
      "cell_type": "code",
      "metadata": {
        "id": "6Cr5b1IZZ984",
        "colab_type": "code",
        "outputId": "7f5ec880-0776-4d62-bed3-4c809eb8d6dc",
        "colab": {
          "base_uri": "https://localhost:8080/",
          "height": 36
        }
      },
      "source": [
        "#predictions on unseen test data\n",
        "\n",
        "categories = X_train['label'].tolist()\n",
        "predict_logits = predicts.argmax(axis=1)\n",
        "predict_labels = [categories[logit] for logit in predict_logits]\n",
        "predict_labels"
      ],
      "execution_count": 0,
      "outputs": [
        {
          "output_type": "execute_result",
          "data": {
            "text/plain": [
              "[1117, 1117, 11]"
            ]
          },
          "metadata": {
            "tags": []
          },
          "execution_count": 20
        }
      ]
    },
    {
      "cell_type": "code",
      "metadata": {
        "id": "6hy0EWVWaBmA",
        "colab_type": "code",
        "colab": {}
      },
      "source": [
        ""
      ],
      "execution_count": 0,
      "outputs": []
    }
  ]
}